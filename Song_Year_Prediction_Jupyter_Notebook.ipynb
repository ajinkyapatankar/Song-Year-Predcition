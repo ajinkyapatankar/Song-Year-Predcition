{
 "cells": [
  {
   "cell_type": "markdown",
   "metadata": {},
   "source": [
    "# Song Year Prediction on Million Song Dataset using Pyspark"
   ]
  },
  {
   "cell_type": "code",
   "execution_count": 1,
   "metadata": {},
   "outputs": [],
   "source": [
    "import pandas as pd\n",
    "from time import time\n",
    "import matplotlib.pyplot as plt\n",
    "import matplotlib.mlab as mlab\n",
    "import numpy as np"
   ]
  },
  {
   "cell_type": "markdown",
   "metadata": {},
   "source": [
    "### Load file using textFile operation in Spark"
   ]
  },
  {
   "cell_type": "code",
   "execution_count": 2,
   "metadata": {},
   "outputs": [],
   "source": [
    "songData = sc.textFile('/Users/akshatkumar/YearPredictionMSD.txt')"
   ]
  },
  {
   "cell_type": "code",
   "execution_count": 3,
   "metadata": {},
   "outputs": [
    {
     "data": {
      "text/plain": [
       "u'2001,49.94357,21.47114,73.07750,8.74861,-17.40628,-13.09905,-25.01202,-12.23257,7.83089,-2.46783,3.32136,-2.31521,10.20556,611.10913,951.08960,698.11428,408.98485,383.70912,326.51512,238.11327,251.42414,187.17351,100.42652,179.19498,-8.41558,-317.87038,95.86266,48.10259,-95.66303,-18.06215,1.96984,34.42438,11.72670,1.36790,7.79444,-0.36994,-133.67852,-83.26165,-37.29765,73.04667,-37.36684,-3.13853,-24.21531,-13.23066,15.93809,-18.60478,82.15479,240.57980,-10.29407,31.58431,-25.38187,-3.90772,13.29258,41.55060,-7.26272,-21.00863,105.50848,64.29856,26.08481,-44.59110,-8.30657,7.93706,-10.73660,-95.44766,-82.03307,-35.59194,4.69525,70.95626,28.09139,6.02015,-37.13767,-41.12450,-8.40816,7.19877,-8.60176,-5.90857,-12.32437,14.68734,-54.32125,40.14786,13.01620,-54.40548,58.99367,15.37344,1.11144,-23.08793,68.40795,-1.82223,-27.46348,2.26327'"
      ]
     },
     "execution_count": 3,
     "metadata": {},
     "output_type": "execute_result"
    }
   ],
   "source": [
    "# The first feature is the decision label Year (target), ranging from 1922 to 2011 and then there are 90 attributes\n",
    "# TimbreAverage[1-12]\n",
    "# TimbreCovariance[13-78]\n",
    "\n",
    "songData.first()"
   ]
  },
  {
   "cell_type": "code",
   "execution_count": 4,
   "metadata": {
    "scrolled": true
   },
   "outputs": [
    {
     "name": "stdout",
     "output_type": "stream",
     "text": [
      "Data Count: 515345\n",
      "[u'2001,49.94357,21.47114,73.07750,8.74861,-17.40628,-13.09905,-25.01202,-12.23257,7.83089,-2.46783,3.32136,-2.31521,10.20556,611.10913,951.08960,698.11428,408.98485,383.70912,326.51512,238.11327,251.42414,187.17351,100.42652,179.19498,-8.41558,-317.87038,95.86266,48.10259,-95.66303,-18.06215,1.96984,34.42438,11.72670,1.36790,7.79444,-0.36994,-133.67852,-83.26165,-37.29765,73.04667,-37.36684,-3.13853,-24.21531,-13.23066,15.93809,-18.60478,82.15479,240.57980,-10.29407,31.58431,-25.38187,-3.90772,13.29258,41.55060,-7.26272,-21.00863,105.50848,64.29856,26.08481,-44.59110,-8.30657,7.93706,-10.73660,-95.44766,-82.03307,-35.59194,4.69525,70.95626,28.09139,6.02015,-37.13767,-41.12450,-8.40816,7.19877,-8.60176,-5.90857,-12.32437,14.68734,-54.32125,40.14786,13.01620,-54.40548,58.99367,15.37344,1.11144,-23.08793,68.40795,-1.82223,-27.46348,2.26327']\n"
     ]
    }
   ],
   "source": [
    "#We will use 'take' method to create and print out a list of the first 2 data points \n",
    "\n",
    "totalData = songData.count()\n",
    "print 'Data Count: {0}'.format(totalData)\n",
    "print songData.take(1)"
   ]
  },
  {
   "cell_type": "markdown",
   "metadata": {},
   "source": [
    "### Extract 12 TimbreAverage features from the total of 90 features"
   ]
  },
  {
   "cell_type": "code",
   "execution_count": 5,
   "metadata": {
    "scrolled": true
   },
   "outputs": [
    {
     "data": {
      "text/plain": [
       "[[u'2001',\n",
       "  u'49.94357',\n",
       "  u'21.47114',\n",
       "  u'73.07750',\n",
       "  u'8.74861',\n",
       "  u'-17.40628',\n",
       "  u'-13.09905',\n",
       "  u'-25.01202',\n",
       "  u'-12.23257',\n",
       "  u'7.83089',\n",
       "  u'-2.46783',\n",
       "  u'3.32136',\n",
       "  u'-2.31521']]"
      ]
     },
     "execution_count": 5,
     "metadata": {},
     "output_type": "execute_result"
    }
   ],
   "source": [
    "#We first 'split' the data entry on comma, as all the attributes are seperated by that.\n",
    "#Now will extract first 13 attributes from the songData RDD and display them.\n",
    "#Index[0] - Label\n",
    "#Index[1:13] - Timbre Features\n",
    "\n",
    "\n",
    "songData = songData.map(lambda x: x.split(','))\n",
    "songData = songData.map(lambda x: x[:13])\n",
    "songData.take(1)"
   ]
  },
  {
   "cell_type": "markdown",
   "metadata": {},
   "source": [
    "### Seperating Label which is Year and Features which are Timbre "
   ]
  },
  {
   "cell_type": "code",
   "execution_count": 6,
   "metadata": {},
   "outputs": [],
   "source": [
    "#Seperating features and label\n",
    "\n",
    "songDataFeatures = songData.map(lambda x: x[1:])\n",
    "songDataLabels = songData.map(lambda x: x[0])"
   ]
  },
  {
   "cell_type": "code",
   "execution_count": 7,
   "metadata": {},
   "outputs": [
    {
     "name": "stdout",
     "output_type": "stream",
     "text": [
      "Features = [[u'49.94357', u'21.47114', u'73.07750', u'8.74861', u'-17.40628', u'-13.09905', u'-25.01202', u'-12.23257', u'7.83089', u'-2.46783', u'3.32136', u'-2.31521']]\n"
     ]
    }
   ],
   "source": [
    "print 'Features = {0}'.format(songDataFeatures.take(1))\n",
    "#print '\\nLabel = {0}'.format(songDataLabels.take(1))"
   ]
  },
  {
   "cell_type": "markdown",
   "metadata": {},
   "source": [
    "### Importing Data in Pandas for Timbre Features Analysis and Visualization"
   ]
  },
  {
   "cell_type": "code",
   "execution_count": 8,
   "metadata": {},
   "outputs": [],
   "source": [
    "timbre_features = ['year', 't1', 't2', 't3', 't4', 't5', 't6', 't7', 't8', 't9', 't10', 't11', 't12', 't13', 't14', 't15', 't16', 't17', 't18', 't1 9', 't20', 't21', 't22', 't23', 't24', 't25', 't26', 't27', 't28', 't29', 't30', 't31', 't32', 't33', 't34', 't35', 't36 ', 't37', 't38', 't39', 't40', 't41', 't42', 't43', 't44', 't45', 't46', 't47', 't48', 't49', 't50', 't51', 't52', 't53' , 't54', 't55', 't56', 't57', 't58', 't59', 't60', 't61', 't62', 't63', 't64', 't65', 't66', 't67', 't68', 't69', 't70', 't71', 't72', 't73', 't74', 't75', 't76', 't77', 't78', 't79', 't80', 't81', 't82', 't83', 't84', 't85', 't86', 't87', 't88', 't89', 't90']"
   ]
  },
  {
   "cell_type": "code",
   "execution_count": 9,
   "metadata": {},
   "outputs": [],
   "source": [
    "data_pd = pd.read_csv(\"/Users/akshatkumar/YearPredictionMSD.txt\", names=timbre_features)"
   ]
  },
  {
   "cell_type": "markdown",
   "metadata": {},
   "source": [
    "### Variation in values of selected Timbre Features"
   ]
  },
  {
   "cell_type": "code",
   "execution_count": 10,
   "metadata": {},
   "outputs": [
    {
     "data": {
      "text/plain": [
       "<matplotlib.legend.Legend at 0x11b31c990>"
      ]
     },
     "execution_count": 10,
     "metadata": {},
     "output_type": "execute_result"
    },
    {
     "data": {
      "image/png": "[encoded data removed]",
      "text/plain": [
       "<matplotlib.figure.Figure at 0x11a446ad0>"
      ]
     },
     "metadata": {
      "needs_background": "light"
     },
     "output_type": "display_data"
    }
   ],
   "source": [
    "for t in timbre_features[1:6]:\n",
    "    y = data_pd[t].as_matrix()\n",
    "    plt.plot(sorted(y), label=t, linewidth=1)\n",
    "\n",
    "plt.legend(loc='upper center', bbox_to_anchor=(0.3, 1.03), ncol=3, fancybox=True, shadow=True)"
   ]
  },
  {
   "cell_type": "code",
   "execution_count": 11,
   "metadata": {},
   "outputs": [],
   "source": [
    "X = data_pd.ix[:,1:].as_matrix()  \n",
    "X = (X - X.min()) / (X.max() - X.min())"
   ]
  },
  {
   "cell_type": "markdown",
   "metadata": {},
   "source": [
    "### Feature Value Analysis for sample selected song tracks"
   ]
  },
  {
   "cell_type": "code",
   "execution_count": 12,
   "metadata": {},
   "outputs": [
    {
     "data": {
      "text/plain": [
       "<matplotlib.legend.Legend at 0x11b750d10>"
      ]
     },
     "execution_count": 12,
     "metadata": {},
     "output_type": "execute_result"
    },
    {
     "data": {
      "image/png": "[encoded data removed]",
      "text/plain": [
       "<matplotlib.figure.Figure at 0x11b750390>"
      ]
     },
     "metadata": {
      "needs_background": "light"
     },
     "output_type": "display_data"
    }
   ],
   "source": [
    "for i in range(1, 51):\n",
    "    plt.plot(X[i], label='songtrack_' + str(i))\n",
    "    \n",
    "plt.xlabel(\"Feature Label\")\n",
    "plt.ylabel(\"Value Label\")\n",
    "plt.legend(loc='upper center', bbox_to_anchor=(0.8, 0.9), ncol=5, fancybox=True, shadow=True, fontsize=7)"
   ]
  },
  {
   "cell_type": "markdown",
   "metadata": {},
   "source": [
    "### Converting features to LabeledPoint object"
   ]
  },
  {
   "cell_type": "code",
   "execution_count": 13,
   "metadata": {},
   "outputs": [],
   "source": [
    "#Importing essential libraries and packages\n",
    "\n",
    "from pyspark.mllib.regression import LabeledPoint\n",
    "import numpy as np\n",
    "\n",
    "songData = songData.map(lambda x: LabeledPoint(x[0], np.array(x[1:]))).cache()"
   ]
  },
  {
   "cell_type": "code",
   "execution_count": 14,
   "metadata": {},
   "outputs": [
    {
     "name": "stdout",
     "output_type": "stream",
     "text": [
      "[LabeledPoint(2001.0, [49.94357,21.47114,73.0775,8.74861,-17.40628,-13.09905,-25.01202,-12.23257,7.83089,-2.46783,3.32136,-2.31521])]\n"
     ]
    }
   ],
   "source": [
    "#Display labeled data\n",
    "\n",
    "print songData.take(1)\n"
   ]
  },
  {
   "cell_type": "markdown",
   "metadata": {},
   "source": [
    "### Rescaling and normalizing the features\n",
    "#### Formula used = (feature - min(feature)) / (max(feature) - min(feature))"
   ]
  },
  {
   "cell_type": "code",
   "execution_count": 15,
   "metadata": {},
   "outputs": [
    {
     "name": "stdout",
     "output_type": "stream",
     "text": [
      "[LabeledPoint(2001.0, [0.8002932192914316,0.21474645076883545,0.7307994702226234,0.08751009646089974,-0.17414281017836813,-0.13908197615989953,-0.2508741513878448,-1.223304378783909,0.08393661268629489,-0.2467804935609871,0.3321363321363321,-0.23152038912233475])]\n"
     ]
    }
   ],
   "source": [
    "# Rescaling function the rescales the features corresponding to labels\n",
    "songFeaturesVertical = [(1.74900,61.97014),(-0.00014,99.98419),(-0.00005,99.99667),\n",
    "                       (-0.00005,99.97310),(-0.00002,99.95392),(-0.00008,94.18157),\n",
    "                       (0.00002,99.69957),(-0.00004,9.99954),(-0.00003,93.29561),\n",
    "                       (-0.00003,9.99995),(-0.00000,9.99999),(-0.00002,9.99992)]\n",
    "\n",
    "def rescale(x):\n",
    "    \n",
    "    dv = []\n",
    "    for i in range(12):\n",
    "        val = (x[i] - float(str(songFeaturesVertical[i][0])))/(float(str(songFeaturesVertical[i][1])) - float(str(songFeaturesVertical[i][0])))\n",
    "        # val = float(\"{0:.2f}\".format(val))\n",
    "        dv.append(val)\n",
    "    \n",
    "    return dv \n",
    "\n",
    "songData = songData.map(lambda x: LabeledPoint(x.label,rescale(x.features))).cache()\n",
    "print songData.take(1)"
   ]
  },
  {
   "cell_type": "markdown",
   "metadata": {},
   "source": [
    "### Adding relevant features using the concept of 2-way interaction"
   ]
  },
  {
   "cell_type": "code",
   "execution_count": 16,
   "metadata": {},
   "outputs": [
    {
     "data": {
      "text/plain": [
       "[LabeledPoint(2001.0, [0.8002932192914316,0.21474645076883545,0.7307994702226234,0.08751009646089974,-0.17414281017836813,-0.13908197615989953,-0.2508741513878448,-1.223304378783909,0.08393661268629489,-0.2467804935609871,0.3321363321363321,-0.23152038912233475,0.6404692368438434,0.17186012841720025,0.5848538606809359,0.07003373681719717,-0.13936531017410292,0.04611603811781186,0.15693659245405361,0.018792482621416647,-0.03739655041271559,0.534067865677667,0.0639523321327562,-0.1272634734214303,0.007658016982595978,-0.01523925411668115,0.030325718336819157,0.5125631874108858,0.009903255509320424,0.39029651330016624,0.0006701538048461825,-0.005281005811851356,0.13753849543884003,0.033701576225263215,0.046736330442119486,-0.0013335885977429308,0.024269466755098203])]"
      ]
     },
     "execution_count": 16,
     "metadata": {},
     "output_type": "execute_result"
    }
   ],
   "source": [
    "# Till now, we have been using 12 timbre features, however accuracy of the system enhances rapidly, \n",
    "# if more number of relevant features are added. \n",
    "# For that, we used the concept of 2-way interaction among the features. \n",
    "# Suppose there are 3 features a,b and c. Then apart from these three features, \n",
    "# we can add some more features like a*a, a*b, a*c, b*b, b*c etc.\n",
    "\n",
    "import math\n",
    "def twoWayInteractions(lp):\n",
    "    return LabeledPoint(lp.label,np.hstack([lp.features,\n",
    "                                            lp.features[0]*lp.features[0],\n",
    "                                            lp.features[0]*lp.features[1],\n",
    "                                            lp.features[0]*lp.features[2],\n",
    "                                            lp.features[0]*lp.features[3],\n",
    "                                            lp.features[0]*lp.features[4],\n",
    "                                            \n",
    "                                            lp.features[1]*lp.features[1],\n",
    "                                            lp.features[1]*lp.features[2],\n",
    "                                            lp.features[1]*lp.features[3],\n",
    "                                            lp.features[1]*lp.features[4],\n",
    "                                                                                    \n",
    "                                            lp.features[2]*lp.features[2],\n",
    "                                            lp.features[2]*lp.features[3],\n",
    "                                            lp.features[2]*lp.features[4],\n",
    "                                            \n",
    "                                            lp.features[3]*lp.features[3],\n",
    "                                            lp.features[3]*lp.features[4],\n",
    "                                            \n",
    "                                            lp.features[4]*lp.features[4],\n",
    "                                            \n",
    "                                            math.pow(lp.features[0],3),\n",
    "                                            math.pow(lp.features[1],3),\n",
    "                                            math.pow(lp.features[2],3),\n",
    "                                            math.pow(lp.features[3],3),\n",
    "                                            math.pow(lp.features[4],3),\n",
    "                                            \n",
    "                                            lp.features[0]*lp.features[0]*lp.features[1],\n",
    "                                            lp.features[1]*lp.features[1]*lp.features[2],\n",
    "                                            lp.features[2]*lp.features[2]*lp.features[3],\n",
    "                                            lp.features[3]*lp.features[3]*lp.features[4],\n",
    "                                            lp.features[4]*lp.features[4]*lp.features[0],\n",
    "                                            \n",
    "                                           ]))\n",
    "\n",
    "songData = songData.map(lambda x: twoWayInteractions(x))\n",
    "songData.take(1)"
   ]
  },
  {
   "cell_type": "markdown",
   "metadata": {},
   "source": [
    "### Analysing Label of the dataset"
   ]
  },
  {
   "cell_type": "code",
   "execution_count": 17,
   "metadata": {},
   "outputs": [
    {
     "name": "stdout",
     "output_type": "stream",
     "text": [
      "Minimum year data: 1922.0\n",
      "Maximum year data: 2011.0\n",
      "175.651139975\n"
     ]
    }
   ],
   "source": [
    "#Extracting labels from the records\n",
    "\n",
    "t0 = time()\n",
    "\n",
    "label_analysis = songData.map(lambda x: x.label)\n",
    "\n",
    "#Maximum and min labels\n",
    "min_label = label_analysis.min()\n",
    "max_label = label_analysis.max()\n",
    "\n",
    "#Label Count\n",
    "#Output - (label,count)\n",
    "label_analysis = label_analysis.map(lambda x: (x,1)).reduceByKey(lambda x,y: x+y).sortByKey()\n",
    "#print label_analysis.take(10)\n",
    "\n",
    "\n",
    "print 'Minimum year data: {0}'.format(min_label)\n",
    "print 'Maximum year data: {0}'.format(max_label)\n",
    "\n",
    "t1 = time() - t0\n",
    "print t1"
   ]
  },
  {
   "cell_type": "markdown",
   "metadata": {},
   "source": [
    "###  Matplotlib for visualization"
   ]
  },
  {
   "cell_type": "code",
   "execution_count": 18,
   "metadata": {},
   "outputs": [
    {
     "name": "stdout",
     "output_type": "stream",
     "text": [
      "Year: [1922.0, 1924.0, 1925.0, 1926.0, 1927.0, 1928.0, 1929.0, 1930.0, 1931.0, 1932.0]\n",
      "Count: [6, 5, 7, 19, 42, 52, 93, 40, 35, 11]\n",
      "Length of Year vector: 89\n",
      "Maximum count: 39404\n"
     ]
    }
   ],
   "source": [
    "label_analysis_year = label_analysis.map(lambda (x,y): x).collect()\n",
    "label_analysis_count = label_analysis.map(lambda (x,y): y).collect()\n",
    "\n",
    "print 'Year: {0}'.format(label_analysis_year[:10])\n",
    "print 'Count: {0}'.format(label_analysis_count[:10])\n",
    "print 'Length of Year vector: {0}'.format(len(label_analysis_year))\n",
    "print 'Maximum count: {0}'.format(max(label_analysis_count))"
   ]
  },
  {
   "cell_type": "markdown",
   "metadata": {},
   "source": [
    "### Track Count vs Year Visualization\n",
    "##### We have taken the songs starting from 1922.\n",
    "##### So this graph shows us the number of tracks that were released in each year.\n",
    "##### We have shifted the lables so that it would be easier for us during further processing."
   ]
  },
  {
   "cell_type": "code",
   "execution_count": 19,
   "metadata": {},
   "outputs": [
    {
     "data": {
      "text/plain": [
       "[<matplotlib.lines.Line2D at 0x11f78d550>]"
      ]
     },
     "execution_count": 19,
     "metadata": {},
     "output_type": "execute_result"
    },
    {
     "data": {
      "image/png": "[encoded data removed]",
      "text/plain": [
       "<matplotlib.figure.Figure at 0x11b1e8c90>"
      ]
     },
     "metadata": {},
     "output_type": "display_data"
    }
   ],
   "source": [
    "fig = plt.figure(figsize=(10,6), facecolor='white')\n",
    "plt.axis([1920, max(label_analysis_year) + 9, 0, max(label_analysis_count) + 650])\n",
    "plt.grid(b=True)\n",
    "plt.xlabel('Year')\n",
    "plt.ylabel('Count')\n",
    "plt.title('Track Count Vs Year')\n",
    "plt.plot(label_analysis_year,label_analysis_count)"
   ]
  },
  {
   "cell_type": "markdown",
   "metadata": {},
   "source": [
    "### Shifting Labels"
   ]
  },
  {
   "cell_type": "code",
   "execution_count": 20,
   "metadata": {},
   "outputs": [
    {
     "name": "stdout",
     "output_type": "stream",
     "text": [
      "[LabeledPoint(79.0, [0.8002932192914316,0.21474645076883545,0.7307994702226234,0.08751009646089974,-0.17414281017836813,-0.13908197615989953,-0.2508741513878448,-1.223304378783909,0.08393661268629489,-0.2467804935609871,0.3321363321363321,-0.23152038912233475,0.6404692368438434,0.17186012841720025,0.5848538606809359,0.07003373681719717,-0.13936531017410292,0.04611603811781186,0.15693659245405361,0.018792482621416647,-0.03739655041271559,0.534067865677667,0.0639523321327562,-0.1272634734214303,0.007658016982595978,-0.01523925411668115,0.030325718336819157,0.5125631874108858,0.009903255509320424,0.39029651330016624,0.0006701538048461825,-0.005281005811851356,0.13753849543884003,0.033701576225263215,0.046736330442119486,-0.0013335885977429308,0.024269466755098203])]\n",
      "Shifted Year: [0.0, 2.0, 3.0, 4.0, 5.0]\n",
      "Count per shifted year: [6, 5, 7, 19, 42]\n"
     ]
    }
   ],
   "source": [
    "# In order to simplify the complexity and enhance the efficiency of the predictive model, all\n",
    "# the values of the labels will be shifted, in order to start from 0.\n",
    "# This means that the Value of the first label, ie 1922 will be shifted to the value 0 1923 :1 , 1924: 2 so on.\n",
    "\n",
    "\n",
    "songData = songData.map(lambda x: LabeledPoint((x.label-min_label), x.features))\n",
    "print songData.take(1)\n",
    "\n",
    "label_analysis = songData.map(lambda x: x.label)\n",
    "label_analysis = label_analysis.map(lambda x: (x,1)).reduceByKey(lambda x,y: x+y).sortByKey()\n",
    "\n",
    "label_analysis_shifted_year = label_analysis.map(lambda (x,y): x).collect()\n",
    "label_analysis_shifted_count = label_analysis.map(lambda (x,y): y).collect()\n",
    "\n",
    "print 'Shifted Year: {0}'.format(label_analysis_shifted_year[:5])\n",
    "print 'Count per shifted year: {0}'.format(label_analysis_shifted_count[:5])"
   ]
  },
  {
   "cell_type": "markdown",
   "metadata": {},
   "source": [
    "### Track Count vs Year Visualization after Label Shifting"
   ]
  },
  {
   "cell_type": "code",
   "execution_count": 21,
   "metadata": {},
   "outputs": [
    {
     "data": {
      "text/plain": [
       "[<matplotlib.lines.Line2D at 0x11b2e42d0>]"
      ]
     },
     "execution_count": 21,
     "metadata": {},
     "output_type": "execute_result"
    },
    {
     "data": {
      "image/png": "[encoded data removed]",
      "text/plain": [
       "<matplotlib.figure.Figure at 0x11f75dad0>"
      ]
     },
     "metadata": {},
     "output_type": "display_data"
    }
   ],
   "source": [
    "import matplotlib.pyplot as plt\n",
    "\n",
    "fig = plt.figure(figsize=(10,6), facecolor='white')\n",
    "plt.axis([0, max(label_analysis_shifted_year)+5, 0, max(label_analysis_shifted_count)+650])\n",
    "plt.grid(b=True)\n",
    "plt.xlabel('Year')\n",
    "plt.ylabel('Count')\n",
    "plt.title('Track Count Vs Year')\n",
    "plt.plot(label_analysis_shifted_year,label_analysis_shifted_count)\n",
    "#plot_url = py.plot_mpl(fig)"
   ]
  },
  {
   "cell_type": "markdown",
   "metadata": {},
   "source": [
    "### Feature Analysis using Heat Map\n",
    "#### Darker the shade means that the value of the feature is approaching 1\n",
    "#### Lighter the shade - Value of the feature approaching 0"
   ]
  },
  {
   "cell_type": "code",
   "execution_count": 22,
   "metadata": {},
   "outputs": [
    {
     "data": {
      "image/png": "[encoded data removed]",
      "text/plain": [
       "<matplotlib.figure.Figure at 0x11f9769d0>"
      ]
     },
     "metadata": {},
     "output_type": "display_data"
    }
   ],
   "source": [
    "#Heat Map Generation\n",
    "\n",
    "import matplotlib.pyplot as plt\n",
    "import numpy as np\n",
    "\n",
    "#Taking 15 Features \n",
    "songDataFeatures = songData.map(lambda x: x.features).take(16)\n",
    "\n",
    "he = []\n",
    "i = 0\n",
    "while i < 16:\n",
    "    he.append(songDataFeatures[:16][i])\n",
    "    i += 1\n",
    "\n",
    "data=np.array([he[0],he[1],he[2],he[3],he[4],\n",
    "               he[5],he[6],he[7],he[8],he[9],\n",
    "               he[10],he[11],he[12],he[13],\n",
    "               he[14],he[15]])\n",
    "\n",
    "# print he[0]\n",
    "# print he[1]\n",
    "# print he[2]\n",
    "\n",
    "fig = plt.subplots(figsize=(10.5, 6), facecolor='white', edgecolor='white')\n",
    "plt.title('Feature Analysis')\n",
    "plt.xlabel('Features')\n",
    "plt.ylabel('Records')\n",
    "c = plt.pcolor(data,cmap=plt.cm.Blues,edgecolors='k', linewidths=2)\n",
    "\n",
    "plt.show()"
   ]
  },
  {
   "cell_type": "markdown",
   "metadata": {},
   "source": [
    "### Split data into train, validation and test set"
   ]
  },
  {
   "cell_type": "code",
   "execution_count": 23,
   "metadata": {},
   "outputs": [
    {
     "name": "stdout",
     "output_type": "stream",
     "text": [
      "Test dataset: 51511\n",
      "Train dataset: 412113\n",
      "Validation dataset: 51721\n"
     ]
    }
   ],
   "source": [
    "# 80% of the whole songdata is training data\n",
    "# 10% of the whole songdata is testing data\n",
    "# 10% of the whole songdata is validation data\n",
    "\n",
    "weights = [0.8, 0.1, 0.1]\n",
    "seed = 12\n",
    "\n",
    "#randomSplit is the method that we would use to split our data in training, testing and validation set\n",
    "songtrainData, songvalidationData, songtestData = songData.randomSplit(weights,seed)\n",
    "\n",
    "#We would cache each of the datasets for future use\n",
    "\n",
    "songtestData.cache()\n",
    "songtrainData.cache()\n",
    "songvalidationData.cache()\n",
    "\n",
    "#Data count in each sets\n",
    "\n",
    "print 'Test dataset: {0}'.format(songtestData.count())\n",
    "print 'Train dataset: {0}'.format(songtrainData.count())\n",
    "print 'Validation dataset: {0}'.format(songvalidationData.count())"
   ]
  },
  {
   "cell_type": "markdown",
   "metadata": {},
   "source": [
    "### Analysing The Dataset Division using Pie Chart"
   ]
  },
  {
   "cell_type": "code",
   "execution_count": 24,
   "metadata": {},
   "outputs": [
    {
     "data": {
      "text/plain": [
       "([<matplotlib.patches.Wedge at 0x125b1de90>,\n",
       "  <matplotlib.patches.Wedge at 0x125c19790>,\n",
       "  <matplotlib.patches.Wedge at 0x125c19f90>],\n",
       " [Text(-0.929697,0.676877,u'Training Data'),\n",
       "  Text(0.698645,-0.963325,u'Validation Data'),\n",
       "  Text(1.13181,-0.367568,u'Testing Data')])"
      ]
     },
     "execution_count": 24,
     "metadata": {},
     "output_type": "execute_result"
    },
    {
     "data": {
      "image/png": "[encoded data removed]",
      "text/plain": [
       "<matplotlib.figure.Figure at 0x11f760950>"
      ]
     },
     "metadata": {},
     "output_type": "display_data"
    }
   ],
   "source": [
    "#Defining and declaring all the attributes of .pie method of plt\n",
    "\n",
    "fig = plt.figure(figsize=(5, 5), facecolor='white', edgecolor='white')\n",
    "colors = ['yellowgreen', 'lightskyblue', 'gold']\n",
    "labels = ['Training Data', 'Validation Data', 'Testing Data']\n",
    "fractions = [songtrainData.count(), songvalidationData.count(), songtestData.count()]\n",
    "explode = (0.05, 0.09, 0.09)\n",
    "\n",
    "#Plot the pie chart\n",
    "plt.pie(fractions, labels=labels, shadow=True, colors=colors, explode=explode)"
   ]
  },
  {
   "cell_type": "code",
   "execution_count": null,
   "metadata": {},
   "outputs": [],
   "source": []
  },
  {
   "cell_type": "code",
   "execution_count": null,
   "metadata": {},
   "outputs": [],
   "source": []
  },
  {
   "cell_type": "code",
   "execution_count": null,
   "metadata": {},
   "outputs": [],
   "source": []
  },
  {
   "cell_type": "code",
   "execution_count": null,
   "metadata": {},
   "outputs": [],
   "source": []
  },
  {
   "cell_type": "code",
   "execution_count": null,
   "metadata": {},
   "outputs": [],
   "source": []
  },
  {
   "cell_type": "code",
   "execution_count": null,
   "metadata": {},
   "outputs": [],
   "source": []
  },
  {
   "cell_type": "markdown",
   "metadata": {},
   "source": [
    "# STAGE 2 - Model Framework Implementation"
   ]
  },
  {
   "cell_type": "markdown",
   "metadata": {},
   "source": [
    "## Four machine learning models built for Song Year Prediction\n",
    "#### 1. Baseline Model\n",
    "#### 2. Linear Regression Model\n",
    "#### 3. Random Forests Model\n",
    "#### 4. Gradient Boosted Trees Model"
   ]
  },
  {
   "cell_type": "markdown",
   "metadata": {},
   "source": [
    "### Baseline Model\n",
    "##### Created a baseline model for us so that the results of the predictions of other machine learning algorithms could be compared against this baseline model"
   ]
  },
  {
   "cell_type": "code",
   "execution_count": 26,
   "metadata": {},
   "outputs": [
    {
     "name": "stdout",
     "output_type": "stream",
     "text": [
      "Baseline Model Prediction is : 76.4\n"
     ]
    }
   ],
   "source": [
    "songtrainData_baseline = songtrainData.map(lambda x: x.label)\n",
    "songtrainData_baseline_prediction = songtrainData_baseline.mean()\n",
    "\n",
    "songtrainData_baseline_prediction = float(\"{0:0.1f}\".format(songtrainData_baseline_prediction))\n",
    "\n",
    "print 'Baseline Model Prediction is : {0}'.format(songtrainData_baseline_prediction)"
   ]
  },
  {
   "cell_type": "markdown",
   "metadata": {},
   "source": [
    "#### A baseline model has been developed that predicts the average of all the years in our dataset. In our case, the average comes out to be 76.4 (after shifting the year label)"
   ]
  },
  {
   "cell_type": "code",
   "execution_count": 27,
   "metadata": {},
   "outputs": [],
   "source": [
    "songvalidationData_baseline = songvalidationData.map(lambda x: x.label)\n",
    "songtestData_baseline = songtestData.map(lambda x: x.label)"
   ]
  },
  {
   "cell_type": "markdown",
   "metadata": {},
   "source": [
    "### RMSE for Training, Validation and Test Dataset - Baseline Model"
   ]
  },
  {
   "cell_type": "code",
   "execution_count": 28,
   "metadata": {},
   "outputs": [
    {
     "name": "stdout",
     "output_type": "stream",
     "text": [
      "\n",
      "RMSE for training data: 10.9315769178\n",
      "\n",
      "RMSE for validation data: 10.8973220636\n",
      "\n",
      "RMSE for test data: 10.9604692243\n"
     ]
    }
   ],
   "source": [
    "import math\n",
    "\n",
    "data = []\n",
    "\n",
    "def RMSE(data):\n",
    "    \n",
    "    err = data.map(lambda (x,y): math.pow((x-y),2)).mean()\n",
    "    err = math.sqrt(err)  \n",
    "    \n",
    "    return err\n",
    "\n",
    "\n",
    "\n",
    "generateData = songtrainData_baseline.map(lambda x: (x,songtrainData_baseline_prediction))\n",
    "songtrainData_baseline_prediction_error = RMSE(generateData)\n",
    "\n",
    "generateData = songvalidationData_baseline.map(lambda x: (x,songtrainData_baseline_prediction))\n",
    "songvalidationData_baseline_prediction_error = RMSE(generateData)\n",
    "\n",
    "generateData = songtestData_baseline.map(lambda x: (x,songtrainData_baseline_prediction))\n",
    "songtestData_baseline_prediction_error = RMSE(generateData)\n",
    "\n",
    "print '\\nRMSE for training data: {0}'.format(songtrainData_baseline_prediction_error)\n",
    "print '\\nRMSE for validation data: {0}'.format(songvalidationData_baseline_prediction_error)\n",
    "print '\\nRMSE for test data: {0}'.format(songtestData_baseline_prediction_error)"
   ]
  },
  {
   "cell_type": "code",
   "execution_count": null,
   "metadata": {},
   "outputs": [],
   "source": [
    "baseline_training_error = songtrainData_baseline_prediction_error\n",
    "baseline_validation_error = songvalidationData_baseline_prediction_error\n",
    "baseline_testing_error = songtestData_baseline_prediction_error = RMSE(generateData)"
   ]
  },
  {
   "cell_type": "markdown",
   "metadata": {},
   "source": [
    "### Linear regression Model \n",
    "#### Applied on Training Data"
   ]
  },
  {
   "cell_type": "code",
   "execution_count": 31,
   "metadata": {},
   "outputs": [
    {
     "name": "stderr",
     "output_type": "stream",
     "text": [
      "/Users/akshatkumar/home/prakhar/akshat/spark-2.0.1-bin-hadoop2.4/python/pyspark/mllib/regression.py:281: UserWarning:\n",
      "\n",
      "Deprecated in 2.0.0. Use ml.regression.LinearRegression.\n",
      "\n"
     ]
    },
    {
     "name": "stdout",
     "output_type": "stream",
     "text": [
      "Model has been trained\n",
      "\n",
      "Time taken to train the linear regression model is 14.57\n"
     ]
    }
   ],
   "source": [
    "from pyspark.mllib.regression import LinearRegressionWithSGD, LinearRegressionModel\n",
    "\n",
    "# Build the model\n",
    "\n",
    "t0_regression = time()\n",
    "\n",
    "firstModel = LinearRegressionWithSGD.train(songtrainData,iterations=200, step=3.5,\n",
    "                                          miniBatchFraction=1.0, initialWeights=None, \n",
    "                                           regParam=1, regType=None, intercept=True)\n",
    "\n",
    "t1_regression = time() - t0_regression\n",
    "\n",
    "print 'Model has been trained\\n'\n",
    "print 'Time taken to train the linear regression model is {0:.2f}'.format(t1_regression)\n",
    "# Evaluate the model on training data\n",
    "valuesAndPreds = songtrainData.map(lambda x: (x.label, float(firstModel.predict(x.features))))\n",
    "valuesAndPreds_test_regression = songtestData.map(lambda x: (x.label, float(firstModel.predict(x.features))))"
   ]
  },
  {
   "cell_type": "markdown",
   "metadata": {},
   "source": [
    "### Linear Regression RMSE\n",
    "#### Applied on Test and Validation dataset and sample output check"
   ]
  },
  {
   "cell_type": "code",
   "execution_count": 32,
   "metadata": {},
   "outputs": [
    {
     "name": "stdout",
     "output_type": "stream",
     "text": [
      "RMSE training = 10.0068014157\n",
      "RMSE testing = 10.0192673543\n",
      "[(79.0, 75.79272266789087), (79.0, 76.49427000290123), (79.0, 78.1691602885039)]\n"
     ]
    }
   ],
   "source": [
    "from pyspark.mllib.evaluation import RegressionMetrics\n",
    "\n",
    "metrics = RegressionMetrics(valuesAndPreds)\n",
    "metricstest = RegressionMetrics(valuesAndPreds_test_regression)\n",
    "\n",
    "linearRegression_trining_error = metrics.rootMeanSquaredError\n",
    "linearRegression_testing_error = metricstest.rootMeanSquaredError\n",
    "# Error\n",
    "print(\"RMSE training = %s\" % linearRegression_trining_error)\n",
    "print(\"RMSE testing = %s\" % linearRegression_testing_error)\n",
    "\n",
    "#SAVE MODEL 1\n",
    "firstModel.save(sc, 'regression_model_200_3.5')\n",
    "\n",
    "\n",
    "# In[24]:\n",
    "\n",
    "#Checking the output\n",
    "print valuesAndPreds.take(3)"
   ]
  },
  {
   "cell_type": "markdown",
   "metadata": {},
   "source": [
    "#### A linear regression based model has been implemented to predict the year of a particular song. The model so developed has outperformed the accuracy obtained from baseline model on the validation and testing set at the first decimal place itself."
   ]
  },
  {
   "cell_type": "markdown",
   "metadata": {},
   "source": [
    "### Actual vs Predicted Values Plot for Linear Regression Model"
   ]
  },
  {
   "cell_type": "code",
   "execution_count": 53,
   "metadata": {},
   "outputs": [
    {
     "name": "stdout",
     "output_type": "stream",
     "text": [
      "Actual :[79.0, 81.0, 75.0, 65.0, 78.0, 79.0, 87.0, 87.0, 87.0, 87.0]\n",
      "Predicted :[80.27208775729586, 75.72323071443373, 65.45801097542437, 71.33502325278737, 80.33010689214265, 78.76427995288515, 82.22186331409571, 81.9408409776206, 83.3448094865397, 80.08897431009386]\n"
     ]
    },
    {
     "data": {
      "image/png": "[encoded data removed]",
      "text/plain": [
       "<matplotlib.figure.Figure at 0x1269e0890>"
      ]
     },
     "metadata": {},
     "output_type": "display_data"
    }
   ],
   "source": [
    "import numpy as np\n",
    "import matplotlib.pyplot as plt\n",
    "\n",
    "\n",
    "N = 50\n",
    "X = valuesAndPreds.map(lambda (x,y):x).take(100)\n",
    "Y = valuesAndPreds.map(lambda (x,y):y).take(100)\n",
    "\n",
    "print 'Actual :' + str(X[:10])\n",
    "print 'Predicted :' + str(Y[:10])\n",
    "\n",
    "fig = plt.subplots(figsize=(10, 6), facecolor='white', edgecolor='white')\n",
    "plt.title('100 Observations')\n",
    "plt.xlabel('Actual')\n",
    "plt.ylabel('Predicted')\n",
    "area = np.pi * (8)**2\n",
    "plt.scatter(X, Y, s = area, c = Y , alpha=0.7)\n",
    "plt.show()"
   ]
  },
  {
   "cell_type": "markdown",
   "metadata": {},
   "source": [
    "### Grid Search - Hypertune the parameters\n",
    "#### In order to obtain the best results, we automated the tuning of the parameters of the model. Some of the very important parameters like iterations and step-size were given various values, and the best combination of the two was selected - using Grid search technique."
   ]
  },
  {
   "cell_type": "code",
   "execution_count": 43,
   "metadata": {},
   "outputs": [
    {
     "name": "stdout",
     "output_type": "stream",
     "text": [
      "70.377564853\n",
      "26.6005860604\n",
      "10.885765929\n",
      "10.1622096194\n",
      "10.095557766\n",
      "10.0625388501\n",
      "10.0068014157\n",
      "9.98422170951\n",
      "9.97135019146\n",
      "Best Stepsize is 5\n",
      "Best Iteration number is 500\n",
      "Best RMSE is 9.97135019146\n"
     ]
    }
   ],
   "source": [
    "for itr in iterations[:]:\n",
    "    for stp in stepSize[:]:        \n",
    "        sampleModel = LinearRegressionWithSGD.train(songtrainData,iterations=itr, \n",
    "                                                            step=stp,miniBatchFraction=1.0,initialWeights=None,\n",
    "                                                            regParam=1, regType=None, intercept=True)\n",
    "        labelsAndPreds = songtrainData.map(lambda lp: (lp.label, sampleModel.predict(lp.features)))\n",
    "        sampleRMSE = RMSE(labelsAndPreds)\n",
    "        \n",
    "        resultRMSE.append(sampleRMSE)\n",
    "        resultStepSize.append(stp)\n",
    "        resultIter.append(itr)\n",
    "        count += 1\n",
    "        \n",
    "        if count%10 == 0:\n",
    "            print sampleRMSE \n",
    "\n",
    "        if sampleRMSE < bestRMSE:\n",
    "            bestRMSE = sampleRMSE\n",
    "            secondModel = sampleModel\n",
    "            bestStepSize = stp\n",
    "            bestIterationNo = itr\n",
    "\n",
    "print 'Best Stepsize is {0}'.format(bestStepSize)\n",
    "print 'Best Iteration number is {0}'.format(bestIterationNo)\n",
    "print 'Best RMSE is {0}'.format(bestRMSE)\n"
   ]
  },
  {
   "cell_type": "markdown",
   "metadata": {},
   "source": [
    "### Random Forests Model\n",
    "#### Random forests train a set of decision trees separately, so the training can be done in parallel. The algorithm injects randomness into the training process so that each decision tree is a bit different. Combining the predictions from each tree reduces the variance of the predictions, improving the performance on test data."
   ]
  },
  {
   "cell_type": "code",
   "execution_count": 47,
   "metadata": {},
   "outputs": [
    {
     "name": "stdout",
     "output_type": "stream",
     "text": [
      "Model trained\n",
      "\n",
      "Time taken to complete is 534.91\n"
     ]
    }
   ],
   "source": [
    "from pyspark.mllib.tree import RandomForest\n",
    "\n",
    "# Train a RandomForest model.\n",
    "t0_rf = time()\n",
    "\n",
    "secondModel = RandomForest.trainRegressor(songtrainData, categoricalFeaturesInfo={},\n",
    "                                    numTrees=20, featureSubsetStrategy=\"auto\",\n",
    "                                    impurity='variance', maxDepth=15, maxBins=32)\n",
    "\n",
    "t1_rf = time() - t0_rf\n",
    "\n",
    "print 'Model trained\\n'\n",
    "print 'Time taken to complete is {0:.2f}'.format(t1_rf)"
   ]
  },
  {
   "cell_type": "markdown",
   "metadata": {},
   "source": [
    "### Random Forests on Training Data"
   ]
  },
  {
   "cell_type": "code",
   "execution_count": 48,
   "metadata": {},
   "outputs": [
    {
     "name": "stdout",
     "output_type": "stream",
     "text": [
      "RMSE Training = 8.19813471494\n"
     ]
    }
   ],
   "source": [
    "from pyspark.mllib.evaluation import RegressionMetrics\n",
    "\n",
    "\n",
    "#valuesAndPreds = songtrainData.map(lambda x: (x.label, secondModel.predict(x.features)))\n",
    "\n",
    "predictions = secondModel.predict(songtrainData.map(lambda x: x.features))\n",
    "valuesAndPreds = songtrainData.map(lambda x: x.label).zip(predictions)\n",
    "\n",
    "#valuesAndPreds.take(10)\n",
    "\n",
    "#valuesAndPreds.take(3)\n",
    "randomForest_training = RegressionMetrics(valuesAndPreds)\n",
    "randomForest_training_error = randomForest_training.rootMeanSquaredError\n",
    "# Error\n",
    "print(\"RMSE Training = %s\" % randomForest_training_error)"
   ]
  },
  {
   "cell_type": "markdown",
   "metadata": {},
   "source": [
    "### Random Forests on Validation and Test Data"
   ]
  },
  {
   "cell_type": "code",
   "execution_count": 49,
   "metadata": {},
   "outputs": [
    {
     "name": "stdout",
     "output_type": "stream",
     "text": [
      "RMSE Validation = 9.63394514379\n",
      "RMSE Testing = 9.67469422731\n"
     ]
    }
   ],
   "source": [
    "from pyspark.mllib.tree import RandomForestModel\n",
    "secondModel.save(sc, 'forest_model_20')\n",
    "\n",
    "predictions = secondModel.predict(songvalidationData.map(lambda x: x.features))\n",
    "valuesAndPreds = songvalidationData.map(lambda x: x.label).zip(predictions)\n",
    "\n",
    "randomForest_validation = RegressionMetrics(valuesAndPreds)\n",
    "randomForest_validation_error = randomForest_validation.rootMeanSquaredError\n",
    "\n",
    "predictions = secondModel.predict(songtestData.map(lambda x: x.features))\n",
    "valuesAndPreds = songtestData.map(lambda x: x.label).zip(predictions)\n",
    "\n",
    "randomForest_testing = RegressionMetrics(valuesAndPreds)\n",
    "randomForest_testing_error = randomForest_testing.rootMeanSquaredError\n",
    "\n",
    "# Error\n",
    "print(\"RMSE Validation = %s\" % randomForest_validation.rootMeanSquaredError)\n",
    "print(\"RMSE Testing = %s\" % randomForest_testing.rootMeanSquaredError)"
   ]
  },
  {
   "cell_type": "markdown",
   "metadata": {},
   "source": [
    "### Gradient Boosted Trees\n",
    "#### Gradient boosting iteratively trains a sequence of decision trees. On each iteration, the algorithm uses the current ensemble to predict the label of each training instance and then compares the prediction with the true label. The dataset is re-labeled to put more emphasis on training instances with poor predictions. Thus, in the next iteration, the decision tree will help correct for previous mistakes."
   ]
  },
  {
   "cell_type": "code",
   "execution_count": 59,
   "metadata": {},
   "outputs": [
    {
     "name": "stdout",
     "output_type": "stream",
     "text": [
      "Model Trained\n",
      "Time :124.96\n",
      "\n",
      "\n",
      "RMSE training= 9.75728837538\n",
      "9.77979159606\n"
     ]
    }
   ],
   "source": [
    "from pyspark.mllib.tree import GradientBoostedTrees, GradientBoostedTreesModel\n",
    "\n",
    "t0 = time()\n",
    "\n",
    "thirdModel = GradientBoostedTrees.trainRegressor(songtrainData,\n",
    "    categoricalFeaturesInfo={}, numIterations=60)\n",
    "\n",
    "t1 = time() - t0\n",
    "\n",
    "print 'Model Trained'\n",
    "print 'Time :{0:.2f}'.format(t1)\n",
    "print '\\n'\n",
    "\n",
    "predictions = thirdModel.predict(songtrainData.map(lambda x: x.features))\n",
    "labelsAndPredictions = songtrainData.map(lambda lp: lp.label).zip(predictions)\n",
    "metrics = RegressionMetrics(labelsAndPredictions)\n",
    "gb_training_error = metrics.rootMeanSquaredError\n",
    "print(\"RMSE training= %s\" % metrics.rootMeanSquaredError)\n",
    "\n",
    "predictions = thirdModel.predict(songtestData.map(lambda x: x.features))\n",
    "valuesAndPreds = songtestData.map(lambda x: x.label).zip(predictions)\n",
    "\n",
    "gb_testing = RegressionMetrics(valuesAndPreds)\n",
    "\n",
    "gb_testing_error = gb_testing.rootMeanSquaredError\n",
    "\n",
    "print gb_testing_error"
   ]
  },
  {
   "cell_type": "code",
   "execution_count": 71,
   "metadata": {},
   "outputs": [],
   "source": [
    "#Save Model\n",
    "thirdModel.save(sc, 'boosted_model_60')"
   ]
  },
  {
   "cell_type": "markdown",
   "metadata": {},
   "source": [
    "### Machine Learning Models Performance Benchmarking \n",
    "#### 1. Baseline Model\n",
    "#### 2. Linear Regression - SGD\n",
    "#### 3. Random Forest - RF\n",
    "#### 4. Gradient Boosted Trees - GBT"
   ]
  },
  {
   "cell_type": "code",
   "execution_count": 67,
   "metadata": {},
   "outputs": [
    {
     "name": "stdout",
     "output_type": "stream",
     "text": [
      "[10.93157691779109, 10.006801415674499, 8.19813471493724, 9.757288375375461]\n",
      "[10.960469224292563, 10.01926735430041, 9.674694227312171, 9.779791596056794]\n"
     ]
    },
    {
     "data": {
      "text/plain": [
       "([<matplotlib.axis.XTick at 0x127b01cd0>,\n",
       "  <matplotlib.axis.XTick at 0x127a8ac90>,\n",
       "  <matplotlib.axis.XTick at 0x127cfaf10>,\n",
       "  <matplotlib.axis.XTick at 0x127d122d0>],\n",
       " <a list of 4 Text xticklabel objects>)"
      ]
     },
     "execution_count": 67,
     "metadata": {},
     "output_type": "execute_result"
    },
    {
     "data": {
      "image/png": "[encoded data removed]",
      "text/plain": [
       "<matplotlib.figure.Figure at 0x12799a190>"
      ]
     },
     "metadata": {},
     "output_type": "display_data"
    },
    {
     "data": {
      "image/png": "[encoded data removed]",
      "text/plain": [
       "<matplotlib.figure.Figure at 0x1279c8cd0>"
      ]
     },
     "metadata": {},
     "output_type": "display_data"
    }
   ],
   "source": [
    "import matplotlib.pyplot as plt\n",
    "import matplotlib.mlab as mlab\n",
    "import numpy as np\n",
    "import plotly.plotly as py\n",
    "%matplotlib inline\n",
    "\n",
    "x_axis = ['Baseline','SGD','RF', 'GBT']\n",
    "y_axis = [baseline_training_error,linearRegression_trining_error,randomForest_training_error,gb_training_error]\n",
    "print y_axis\n",
    "ind = np.arange(len(x_axis))\n",
    "\n",
    "fig = plt.figure(figsize=(6,6), facecolor='white')\n",
    "\n",
    "plt.bar(ind, y_axis)\n",
    "plt.grid(b=True)\n",
    "plt.ylabel('RMSE Values')\n",
    "plt.title('Algorithm Performance Training Set')\n",
    "plt.xticks(ind+0.4, x_axis)\n",
    "\n",
    "# Testing Set\n",
    "x_axis = ['Baseline','SGD','RF', 'GBT']\n",
    "y_axis = [baseline_testing_error,linearRegression_testing_error,randomForest_testing_error,gb_testing_error]\n",
    "print y_axis\n",
    "ind = np.arange(len(x_axis))\n",
    "\n",
    "fig = plt.figure(figsize=(6,6), facecolor='white')\n",
    "\n",
    "plt.bar(ind, y_axis)\n",
    "plt.grid(b=True)\n",
    "plt.ylabel('RMSE Values')\n",
    "plt.title('Algorithm Performance Test Set')\n",
    "plt.xticks(ind+0.4, x_axis)"
   ]
  },
  {
   "cell_type": "markdown",
   "metadata": {},
   "source": [
    "### Prediction for User Song\n",
    "#### Loading audio features through Echo Nest API and processing it to feed to already developed machine learning models  \n",
    "####  Echo Nest API allows developers to analyze tracks and to add rich artist and song metadata to their applications"
   ]
  },
  {
   "cell_type": "code",
   "execution_count": 6,
   "metadata": {},
   "outputs": [],
   "source": [
    "from pyechonest import track, artist\n",
    "from pyechonest import config\n",
    "import sys\n",
    "import re\n",
    "#Authenticate with API Key\n",
    "API_KEY = \"XOHPGDVM8JJOSGFQK\"\n",
    "config.ECHO_NEST_API_KEY=API_KEY\n",
    "\n",
    "\n",
    "def evaluate(path):\n",
    "    user_input_file = str(path)\n",
    "    \n",
    "\n",
    "    t = track.track_from_filename(user_input_file)\n",
    "    t.get_analysis()\n",
    "    \n",
    "    #print t.meta['artist']\n",
    "\n",
    "    # Open file to save timbre feature into file\n",
    "    f = open(\"/Users/akshatkumar/Downloads/resul.txt\",\"w\")\n",
    "    f.write(str(t.segments))\n",
    "    f.close()\n",
    "\n",
    "    f = open(\"/Users/akshatkumar/Downloads/resul.txt\",\"r\")\n",
    "    filetext = f.read()\n",
    "    f.close()\n",
    "\n",
    "    # Used to get timbre features out\n",
    "    regex = \"timbre.+?\\[(.+?)\\]\"\n",
    "\n",
    "    matches = re.findall(regex, filetext)\n",
    "\n",
    "    #Count for number of feature sets\n",
    "    count = 0\n",
    "    for match in matches:\n",
    "        count += 1\n",
    "    print str(count) + ' lists of features'\n",
    "    \n",
    "    feature_set = []\n",
    "    for i in range(count):\n",
    "        matches[i] = matches[i].split(',') \n",
    "        \n",
    "    for i in range(len(matches)):\n",
    "        for j in range(12):\n",
    "            matches[i][j] = float(matches[i][j])\n",
    "            \n",
    "    timbre_1 = 0; timbre_2 = 0 ; timbre_3 = 0; timbre_4 = 0 ; timbre_5 = 0; timbre_6 = 0 ; \n",
    "    timbre_7 = 0; timbre_8 = 0 ; timbre_9 = 0; timbre_10 = 0 ; timbre_11 = 0; timbre_12 = 0\n",
    "\n",
    "    for j in range(len(matches)):\n",
    "        timbre_1 += matches[j][0]\n",
    "        timbre_2 += matches[j][1]\n",
    "        timbre_3 += matches[j][2]\n",
    "        timbre_4 += matches[j][3]\n",
    "        timbre_5 += matches[j][4]\n",
    "        timbre_6 += matches[j][5]\n",
    "        timbre_7 += matches[j][6]\n",
    "        timbre_8 += matches[j][7]\n",
    "        timbre_9 += matches[j][8]\n",
    "        timbre_10 += matches[j][9]\n",
    "        timbre_11 += matches[j][10]\n",
    "        timbre_12 += matches[j][11]\n",
    "    timbre = [timbre_1,timbre_2,timbre_3,timbre_4,timbre_5,timbre_6,timbre_7,timbre_8,timbre_9,timbre_10,\n",
    "              timbre_11,timbre_12]\n",
    "    \n",
    "    for i in range(12):\n",
    "        timbre[i] = timbre[i] / float(count)\n",
    "    Timbre = timbre\n",
    "    \n",
    "    Timbre = rescale(Timbre)\n",
    "    return Timbre"
   ]
  },
  {
   "cell_type": "markdown",
   "metadata": {},
   "source": [
    "### Prediction for User Song\n",
    "#### Predicting year of the input file of  audio features provided by the user by loading the already existing Linear Regression, Random Forest and Gradient Boosted Trees Model"
   ]
  },
  {
   "cell_type": "code",
   "execution_count": 7,
   "metadata": {},
   "outputs": [],
   "source": [
    "from pyspark.mllib.tree import GradientBoostedTreesModel,RandomForestModel\n",
    "from pyspark.mllib.regression import  LinearRegressionModel\n",
    "\n",
    "thirdModel = GradientBoostedTreesModel.load(sc,'boosted_model_60')\n",
    "firstModel = LinearRegressionModel.load(sc, \"regression_model_200_3.5\")\n",
    "secondModel = RandomForestModel.load(sc, \"forest_model_20\")\n",
    "\n",
    "global thirdModel\n",
    "global firstModel\n",
    "global secondModel\n",
    "\n",
    "def predict_year(thirdModel,secondModel,firstModel,Timbre):\n",
    "    \n",
    "    \n",
    "    predictions_gb = thirdModel.predict(Timbre)\n",
    "    predictions_gb = predictions_gb + 1922\n",
    "    \n",
    "    predictions_regression = firstModel.predict(Timbre)\n",
    "    predictions_regression = 1922+predictions_regression\n",
    "    \n",
    "    \n",
    "    predictions_randomForest = secondModel.predict(Timbre)\n",
    "    predictions_randomForest = 1922+predictions_randomForest\n",
    "    \n",
    "    return [predictions_gb,predictions_randomForest,predictions_regression]"
   ]
  },
  {
   "cell_type": "markdown",
   "metadata": {},
   "source": [
    "### Results, Conclusions and Future Scope in the Summary Report"
   ]
  }
 ],
 "metadata": {
  "kernelspec": {
   "display_name": "Python 2",
   "language": "python",
   "name": "python2"
  },
  "language_info": {
   "codemirror_mode": {
    "name": "ipython",
    "version": 2
   },
   "file_extension": ".py",
   "mimetype": "text/x-python",
   "name": "python",
   "nbconvert_exporter": "python",
   "pygments_lexer": "ipython2",
   "version": "2.7.13"
  }
 },
 "nbformat": 4,
 "nbformat_minor": 1
}
